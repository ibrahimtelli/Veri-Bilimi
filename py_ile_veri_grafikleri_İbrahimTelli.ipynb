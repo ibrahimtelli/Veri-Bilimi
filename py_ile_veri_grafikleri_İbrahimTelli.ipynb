{
 "cells": [
  {
   "cell_type": "code",
   "execution_count": null,
   "id": "b4e2fed1",
   "metadata": {},
   "outputs": [],
   "source": [
    "#www.linkedin.com/in/ibrahim-telli-2058a9220\n",
    "#İZMİR BAKIRÇAY ÜNİVERSİTESİ EEM&BM Öğrencisi İBRAHİM TELLİ\n",
    "#KODUN AMACI: Amerika BM'de Elektrikli Araç Sayısının Artışı üzerine olan bir veri seti üzerinde veri görselleştirme.\n",
    "#DOSYA ÜZERİNDEKİ EKSİK KODLARI DOLDURMA-CSV DOSYASI ÜZERİNDEN VERİ OKUYARAK VERİ GRAFİĞİ ÇIKARMA-LİNEER REGRESYON KULLANIMI"
   ]
  },
  {
   "cell_type": "code",
   "execution_count": null,
   "id": "f67f9af7",
   "metadata": {},
   "outputs": [],
   "source": [
    "import pandas as pd # Bu kütüphane temel olarak zaman etiketli serileri ve sayısal tabloları işlemek için bir veri yapısı oluşturur \n",
    "import numpy as np # Çok boyutlu dizileri ve matrisleri destekleyen, bu diziler üzerinde çalışacak üst düzey matematiksel işlevler ekleyen bir kitaplıktır\n",
    "import seaborn as sns #MatPlotLib kütüphanesini temel alan bir Python görselleştirme kütüphanesidir.\n",
    "import matplotlib.pyplot as plt #Pyplot, Matplotlib'i kullanarak çizim oluşturmanızı sağlar. Bu şekilde, plt olarak kısaltılmış olan pyplot modülüne erişebilirsiniz.\n",
    "import plotly.express as px #Veri görselleştirme ve dashboard oluşturmaya yarayan çeşitli fonksiyonlar içeren bir kütüphanedir"
   ]
  },
  {
   "cell_type": "code",
   "execution_count": null,
   "id": "96ea1d21",
   "metadata": {},
   "outputs": [],
   "source": [
    "df=pd.read_csv(\"C:/Users/elif/Desktop/Electric_Vehicle_Population_Data.csv\") #CSV dosyasını okutup df değişkenine atama yapıldı"
   ]
  },
  {
   "cell_type": "code",
   "execution_count": null,
   "id": "0f211095",
   "metadata": {},
   "outputs": [],
   "source": [
    "df.info() #Veri seti hakkında bilgi alındı.\n",
    "df.head() #Veri seti gösterildi.\n",
    "df.drop(['Base MSRP','Legislative District','DOL Vehicle ID','Electric Utility','2020 Census Tract'],axis=1,inplace=True)\n",
    "#Kullanılmayacak olan veriler drop kodu ile veriden silindi."
   ]
  },
  {
   "cell_type": "code",
   "execution_count": null,
   "id": "dec4b61f",
   "metadata": {},
   "outputs": [],
   "source": [
    "df.isnull().sum() #Veri setideki toplam eksik bilgi gösterildi."
   ]
  },
  {
   "cell_type": "code",
   "execution_count": null,
   "id": "062aef21",
   "metadata": {},
   "outputs": [],
   "source": [
    "df.Model.fillna(method=\"ffill\",inplace=True) \n",
    "df.Location.fillna(method=\"ffill\",inplace=True) #Veri setindeki boşluklar tam olarak bilinemeyeceği için- \n",
    "#veri kendi satırının bir üstündeki veri ile dolduruldu."
   ]
  },
  {
   "cell_type": "code",
   "execution_count": null,
   "id": "415850dd",
   "metadata": {},
   "outputs": [],
   "source": [
    "df.isnull().sum() #Veri setideki toplam eksik bilgi setine tekrar bakıldı ve eksik veriler giderildiği gözlemlendi."
   ]
  },
  {
   "cell_type": "code",
   "execution_count": null,
   "id": "30f52274",
   "metadata": {},
   "outputs": [],
   "source": [
    "# VERİ GRAFİKLERİ"
   ]
  },
  {
   "cell_type": "code",
   "execution_count": null,
   "id": "e91ee3a1",
   "metadata": {},
   "outputs": [],
   "source": [
    "corr_matrix = df.corr()\n",
    "\n",
    "# Korelasyon matrisini yazdırma\n",
    "print(corr_matrix)\n",
    "\n",
    "# Korelasyon matrisini görselleştirme\n",
    "plt.figure(figsize=(10, 8))\n",
    "sns.heatmap(corr_matrix, annot=True, cmap='coolwarm', vmin=-1, vmax=1)\n",
    "plt.title('Korelasyon Matrisi')\n",
    "plt.show()"
   ]
  },
  {
   "cell_type": "code",
   "execution_count": null,
   "id": "4894acc4",
   "metadata": {},
   "outputs": [],
   "source": [
    "car_market_share = pd.DataFrame(df.groupby('Make')['VIN'].count().reset_index()).sort_values(by='VIN',ascending=False).reset_index(drop=True)\n",
    "car_market_share.columns = ['model','count']\n",
    "car_market_share_top_5 = car_market_share.head(5)\n",
    "car_market_share_bottom_5 = car_market_share.tail(5)\n",
    "\n",
    "fig, axes = plt.subplots(1, 2, figsize=(20, 5))\n",
    "sns.barplot(data=car_market_share_top_5, x=\"model\", y=\"count\",ax=axes[0])\n",
    "sns.barplot(data=car_market_share_bottom_5, x=\"model\", y=\"count\",ax=axes[1])\n",
    "\n",
    "axes[0].set_title('EN ÇOK OLAN 5 MARKA')\n",
    "axes[1].set_title('EN AZ OLAN 5 MARKA') # BarPlot ile ülkedeki en çok araca sahip ilk 5 ve son 5 marka grafiği gösterildi."
   ]
  },
  {
   "cell_type": "code",
   "execution_count": null,
   "id": "2fcc7717",
   "metadata": {},
   "outputs": [],
   "source": [
    "#Lokasyon bilgisine göre Araç Sayısı Grafiği\n",
    "\n",
    "Counties = df.groupby('Location').count().sort_values(by='City',ascending=False)['City'].index\n",
    "values = df.groupby('Location').count().sort_values(by='City',ascending=False)['City'].values\n",
    "\n",
    "px.bar(x=list(Counties)[:10],y=values[:10],labels={'x':\"Lokasyon\",'y':\"Araç Sayısı\"},color=values[:10])"
   ]
  },
  {
   "cell_type": "code",
   "execution_count": null,
   "id": "b4bff001",
   "metadata": {},
   "outputs": [],
   "source": [
    "#Posta Kodu bilgisine göre Top 10 Modein Araç Sayısı Grafiği\n",
    "car_counts_pc = df['PostalCode'].value_counts().nlargest(10)\n",
    "plt.bar(car_counts_pc.index, car_counts_pc.values)\n",
    "plt.xlabel('Posta Kodu')\n",
    "plt.ylabel('Araba Sayısı')\n",
    "plt.title('Posta Koduna Göre İlk 10 Modelin Araba Sayısı')\n",
    "plt.show()\n",
    "car_counts_pc_df = car_counts_pc.to_frame()\n",
    "car_counts_pc_df.style.background_gradient(cmap='Blues')"
   ]
  },
  {
   "cell_type": "code",
   "execution_count": null,
   "id": "6e2639a5",
   "metadata": {},
   "outputs": [],
   "source": [
    "#En çok araç bulunan ilk 10 ilçedeki Araç Sayısı Grafiği\n",
    "Companies = df.groupby('County').count().sort_values(by='City',ascending=False)['City'].index\n",
    "values = df.groupby('County').count().sort_values(by='City',ascending=False)['City'].values\n",
    "\n",
    "plt.figure(figsize=(9,5))\n",
    "sns.barplot(x=list(Companies)[:10],y=values[:10],edgecolor='.2',palette='Set2')\n",
    "plt.xticks(rotation='90')\n",
    "plt.xlabel('İlçeler')\n",
    "plt.ylabel('Sayısı')\n",
    "plt.show()"
   ]
  },
  {
   "cell_type": "code",
   "execution_count": null,
   "id": "3204577d",
   "metadata": {},
   "outputs": [],
   "source": [
    "#Eyaletlerdeki araçların toplam menzil sınırını gösteren grafik\n",
    "plt.figure(figsize=(20, 10))\n",
    "sns.violinplot(x='State', y='ElectricRange', data=df)\n",
    "plt.title('Violin Grafiği')\n",
    "plt.xlabel('Eyaletler')\n",
    "plt.ylabel('Menzil')\n",
    "plt.show()"
   ]
  },
  {
   "cell_type": "code",
   "execution_count": null,
   "id": "5dbdad64",
   "metadata": {},
   "outputs": [],
   "source": [
    "#En Çok Araç Bulunan İlk 10 Şehrin Sahip Olduğu İlk 10 Markanın Dağılımının Grafiği\n",
    "cnt_MkCity = df.groupby(['City', 'Make']).size().reset_index(name='Count')\n",
    "grouped_data_cty = cnt_MkCity.groupby(['City', 'Make'])['Count'].sum().reset_index()\n",
    "\n",
    "city_counts = grouped_data_cty.groupby('City')['Count'].sum().reset_index()\n",
    "make_counts = grouped_data_cty.groupby('Make')['Count'].sum().reset_index()\n",
    "\n",
    "top_cities = city_counts.sort_values(by='Count', ascending=False).head(10)\n",
    "top_makes = make_counts.sort_values(by='Count', ascending=False).head(10)\n",
    "\n",
    "filtered_data_Cty = grouped_data_cty[grouped_data_cty['City'].isin(top_cities['City']) & grouped_data_cty['Make'].isin(top_makes['Make'])]\n",
    "\n",
    "pivoted_data_cty = filtered_data_Cty.pivot(index='City', columns='Make',values='Count').fillna(0)\n",
    "\n",
    "pivoted_data_cty.plot(kind='bar', stacked=True)\n",
    "\n",
    "plt.title('En Çok Araç Bulunan İlk 10 Şehrin Sahip Olduğu İlk 10 Markanın Dağılımı')\n",
    "plt.xlabel('Şehir')\n",
    "plt.ylabel('Araba Sayısı')\n",
    "plt.show()\n",
    "pivoted_data_cty.head()"
   ]
  },
  {
   "cell_type": "code",
   "execution_count": null,
   "id": "ea5f89ce",
   "metadata": {},
   "outputs": [],
   "source": [
    "#En Çok Araç Bulunan İlk 10 Eyaletin Sahip Olduğu İlk 10 Markanın Dağılımının Grafiği\n",
    "cnt_Mk_St = df.groupby(['State', 'Make']).size().reset_index(name='Count')\n",
    "grouped_data_St = cnt_Mk_St.groupby(['State', 'Make'])['Count'].sum().reset_index()\n",
    "st_counts = grouped_data_St.groupby('State')['Count'].sum().reset_index()\n",
    "make_counts = grouped_data_St.groupby('Make')['Count'].sum().reset_index()\n",
    "top_States = st_counts.sort_values(by='Count', ascending=False).head(10)\n",
    "top_makes = make_counts.sort_values(by='Count', ascending=False).head(10)\n",
    "\n",
    "filtered_data_St = grouped_data_St[grouped_data_St['State'].isin(top_States['State']) & grouped_data_St['Make'].isin(top_makes['Make'])]\n",
    "pivoted_data_St = filtered_data_St.pivot(index='State', columns='Make',values='Count').fillna(0)\n",
    "pivoted_data_St.plot(kind='bar', stacked=True)\n",
    "\n",
    "plt.title('En Çok Araç Bulunan İlk 10 Eyaletin Sahip Olduğu İlk 10 Markanın Dağılımı')\n",
    "plt.yscale('log')\n",
    "plt.xlabel('Eyalet')\n",
    "plt.ylabel('Araba Sayısı')\n",
    "plt.show()\n",
    "pivoted_data_St.head(10)"
   ]
  },
  {
   "cell_type": "code",
   "execution_count": null,
   "id": "c3fe2a81",
   "metadata": {},
   "outputs": [],
   "source": [
    "# En çok sahip olunan ilk 10 modelin sayısını gösteren grafik\n",
    "Models = df.groupby('Model').count().sort_values(by='City',ascending=False)['City'].index\n",
    "values = df.groupby('Model').count().sort_values(by='City',ascending=False)['City'].values\n",
    "\n",
    "\n",
    "plt.figure(figsize=(9,5))\n",
    "sns.barplot(x=list(Models)[:10],y=values[:10],edgecolor='.2',palette='Set2')\n",
    "plt.xticks(rotation='90')\n",
    "plt.xlabel('Modeli')\n",
    "plt.ylabel('Sayısı')\n",
    "plt.show()"
   ]
  },
  {
   "cell_type": "code",
   "execution_count": null,
   "id": "98669101",
   "metadata": {},
   "outputs": [],
   "source": [
    "# Pasta grafiği ile CAFV kriterini sağlayan araçların oranı\n",
    "\n",
    "eligibility_counts = df['(CAFV)Eligibility'].value_counts()\n",
    "\n",
    "plt.figure(figsize=(8, 6))\n",
    "plt.pie(eligibility_counts, labels=eligibility_counts.index, autopct='%1.1f%%', startangle=90)\n",
    "plt.title('(CAFV) Kriteri Sağlama Durumu')\n",
    "plt.show()"
   ]
  },
  {
   "cell_type": "code",
   "execution_count": null,
   "id": "efbf3a83",
   "metadata": {},
   "outputs": [],
   "source": [
    "#İlk 10 markanın sattığı araçların elektrikli araç tipinin gösterildiği Pasta Grafiği\n",
    "Companies=df['Make']\n",
    "top_10_companies = list(Companies)[:10]\n",
    "for i in top_10_companies:\n",
    "    data = df[df['Make']==i]\n",
    "    data = data.groupby('Model').count().sort_values(by='City',ascending=False).index\n",
    "    print('Top selling model for',i,'is ----------->',data[0])\n",
    "\n",
    "empty_series = pd.Series(dtype='object')\n",
    "top_10_companies = list(Companies)[:10]\n",
    "for index,i in enumerate(top_10_companies):\n",
    "    data = df[df['Make']==i]\n",
    "    labels = list(data.groupby('EVType').count()['City'].index)\n",
    "    values = list(data.groupby('EVType').count()['City'].values)\n",
    "    fig = px.pie(names=labels,values=values,width=700,height=400,title=str(i))\n",
    "    fig.show()"
   ]
  },
  {
   "cell_type": "code",
   "execution_count": null,
   "id": "37397655",
   "metadata": {},
   "outputs": [],
   "source": [
    "#Model yılına göre hangi araç markasının ne kadar sayıda aracı olduğunu gösteren grafik\n",
    "top_10_vehicles = list(df.groupby('Model').count().sort_values(by='City',ascending=False)['City'].index)[:10]\n",
    "top_10_range =  df.sort_values(by='ElectricRange',ascending=False)['Model'].unique()[:10]\n",
    "data = df.copy()\n",
    "data['top_10'] = data['Make'].apply(lambda x:1 if x in top_10_companies else 0)\n",
    "data = data[data['top_10']==1]\n",
    "data = data[data['ModelYear']>=2011]\n",
    "plt.figure(figsize=(12,5))\n",
    "sns.countplot(x = 'ModelYear',hue='Make',data=data)"
   ]
  },
  {
   "cell_type": "code",
   "execution_count": null,
   "id": "fdbcdb56",
   "metadata": {},
   "outputs": [],
   "source": [
    "locations = list(df.groupby('Location').count()['County'].index) # Amerikada enlem-boylam ilişkisine göre araç sayısının nokta grafiği\n",
    "values = list(df.groupby('Location').count()['County'].values)\n",
    "Location_data = pd.DataFrame({'Locations':locations,'Count':values})\n",
    "Location_data['Enlem'] = Location_data['Locations'].apply(lambda x:float(x.split(' ')[1][1:]))\n",
    "Location_data['Boylam'] = Location_data['Locations'].apply(lambda x:float(x.split(' ')[2][:-1]))\n",
    "\n",
    "plt.figure(figsize=(10,5))\n",
    "plt.scatter(x = Location_data['Enlem'],y = Location_data['Boylam'],s=Location_data['Count'])\n",
    "plt.xlim(-130,-60)\n",
    "plt.ylim(20,60)"
   ]
  },
  {
   "cell_type": "code",
   "execution_count": null,
   "id": "10905e2f",
   "metadata": {},
   "outputs": [],
   "source": [
    "df['Enlem'] = df['Location'].apply(lambda x:float(x.split(' ')[1][1:]))\n",
    "df['Boylam'] = df['Location'].apply(lambda x:float(x.split(' ')[2][:-1])) #Genel enlem boylam ataması"
   ]
  },
  {
   "cell_type": "code",
   "execution_count": null,
   "id": "0a399b5b",
   "metadata": {},
   "outputs": [],
   "source": [
    "# Amerikada enlem-boylam ilişkisine göre CAFV ilişkinin nokta grafiği\n",
    "plt.figure(figsize=(10,5))   \n",
    "sns.scatterplot(x = 'Enlem',y = 'Boylam',data=df,hue='(CAFV)Eligibility',palette='Set2')\n",
    "plt.xlim(-130,-60)\n",
    "plt.ylim(20,50)"
   ]
  },
  {
   "cell_type": "code",
   "execution_count": null,
   "id": "8f98474e",
   "metadata": {},
   "outputs": [],
   "source": [
    "# Amerikada enlem-boylam ilişkisine elektrikli araç tipinin nokta grafiği\n",
    "plt.figure(figsize=(10,5))\n",
    "sns.scatterplot(x = 'Enlem',y = 'Boylam',data=df,hue='EVType',palette='Set1')\n",
    "plt.xlim(-130,-60)\n",
    "plt.ylim(20,50)"
   ]
  },
  {
   "cell_type": "code",
   "execution_count": null,
   "id": "a4fba690",
   "metadata": {},
   "outputs": [],
   "source": [
    "#Amerika haritası üzerinde eyaletlerin sahip olduğu araç sayısını gösteren coğrafya grafiği\n",
    "states = list(df.groupby('State').count().sort_values(by='City',ascending=False)['City'].index)\n",
    "values = df.groupby('State').count().sort_values(by='City',ascending=False)['City'].values\n",
    "data = pd.DataFrame(df.groupby('State').count().sort_values(by='City',ascending=False)['City'])\n",
    "data = data.reset_index()\n",
    "data.columns = ['State','Count']\n",
    "fig = px.choropleth(data,\n",
    "                    locations='State', \n",
    "                    locationmode=\"USA-states\", \n",
    "                    color='Count',\n",
    "                    color_continuous_scale=\"greens\", \n",
    "                    scope=\"usa\")\n",
    "\n",
    "fig.show() "
   ]
  },
  {
   "cell_type": "code",
   "execution_count": null,
   "id": "4006d800",
   "metadata": {},
   "outputs": [],
   "source": [
    "#LİNEER REGRESYON MODELLEME"
   ]
  },
  {
   "cell_type": "code",
   "execution_count": null,
   "id": "23812534",
   "metadata": {},
   "outputs": [],
   "source": [
    "#Model yıllarına göre elimizde bulunan toplam araç sayısı gösterildi\n",
    "total_electric = df.pivot_table(columns=['ModelYear'], aggfunc='size')\n",
    "print(total_electric)"
   ]
  },
  {
   "cell_type": "code",
   "execution_count": null,
   "id": "7a7d5efb",
   "metadata": {},
   "outputs": [],
   "source": [
    "#NCars değişkenini tablo haline getiriyoruz.\n",
    "Ncars = total_electric.reset_index()\n",
    "Ncars = Ncars.rename(columns={\"Model Year\": \"year\", 0: \"ToplamArabaSayısı\"})\n",
    "#2023 Modelleri atıyoruz çünkü artış modelini bozuyor.\n",
    "Ncars = Ncars.drop([0, 19])"
   ]
  },
  {
   "cell_type": "code",
   "execution_count": null,
   "id": "47dcf201",
   "metadata": {},
   "outputs": [],
   "source": [
    "x = Ncars[\"ModelYear\"]\n",
    "y = Ncars[\"ToplamArabaSayısı\"]   #Grafik için satır sutün atıyoruz.\n",
    "\n",
    "EskiAraçlar = Ncars.iloc[:6, :]  #Eski ve yeni model araçları incelemek için araç yıllarını 98-10 12-22 yılları olarak ayırıyoruz.\n",
    "YeniAraçlar = Ncars.iloc[6:, :]\n",
    "\n",
    "x1 = EskiAraçlar[\"ModelYear\"]\n",
    "y1 = EskiAraçlar[\"ToplamArabaSayısı\"]\n",
    "\n",
    "x2 = YeniAraçlar[\"ModelYear\"]\n",
    "y2 = YeniAraçlar[\"ToplamArabaSayısı\"]\n"
   ]
  },
  {
   "cell_type": "code",
   "execution_count": null,
   "id": "acd60ce5",
   "metadata": {},
   "outputs": [],
   "source": [
    "#98-10 yılları arasında çıkmış araçların sayısının çizgi grafiği\n",
    "fig, ax = plt.subplots()\n",
    "\n",
    "ax.plot(x1, y1, linewidth=2.0)\n",
    "plt.xlabel('Araba Sayısı')\n",
    "plt.ylabel('Model Yılı')\n",
    "plt.show()"
   ]
  },
  {
   "cell_type": "code",
   "execution_count": null,
   "id": "bc097d98",
   "metadata": {},
   "outputs": [],
   "source": [
    "#12-22 yılları arasında çıkmış araçların sayısının çizgi grafiği\n",
    "fig, ax = plt.subplots()\n",
    "\n",
    "ax.plot(x2, y2, linewidth=2.0)\n",
    "plt.xlabel('Araba Sayısı')\n",
    "plt.ylabel('Model Yılı') \n",
    "plt.show()"
   ]
  },
  {
   "cell_type": "code",
   "execution_count": null,
   "id": "7c7a3a76",
   "metadata": {},
   "outputs": [],
   "source": [
    "# Araba sayısının yıllara bağlı olarak artışını ele alan verinin lineer regresyon ile grafiklenmesi\n",
    "sns.lmplot(x=\"ModelYear\", \n",
    "           y=\"ToplamArabaSayısı\",\n",
    "          data = YeniAraçlar)\n",
    "plt.xlabel('Araba Sayısı')\n",
    "plt.ylabel('Model Yılı')"
   ]
  },
  {
   "cell_type": "code",
   "execution_count": null,
   "id": "a4947b0f",
   "metadata": {},
   "outputs": [],
   "source": [
    "# Buraya kadar geldiyseniz ve CSV dosyasına ulaşmak istiyorsanız LinkedIn üzerinden bana ulaşabilirsiniz.\n",
    "#İYİ ÇALIŞMALAR..."
   ]
  }
 ],
 "metadata": {
  "kernelspec": {
   "display_name": "Python 3 (ipykernel)",
   "language": "python",
   "name": "python3"
  },
  "language_info": {
   "codemirror_mode": {
    "name": "ipython",
    "version": 3
   },
   "file_extension": ".py",
   "mimetype": "text/x-python",
   "name": "python",
   "nbconvert_exporter": "python",
   "pygments_lexer": "ipython3",
   "version": "3.9.13"
  }
 },
 "nbformat": 4,
 "nbformat_minor": 5
}
